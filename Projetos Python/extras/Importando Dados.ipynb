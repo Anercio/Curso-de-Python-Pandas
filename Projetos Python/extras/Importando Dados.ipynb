{
 "cells": [
  {
   "cell_type": "code",
   "execution_count": null,
   "id": "5a198ba5-0a17-4e0e-aa04-48da4ec5fbf7",
   "metadata": {},
   "outputs": [],
   "source": [
    "import pandas as pd"
   ]
  },
  {
   "cell_type": "code",
   "execution_count": null,
   "id": "fc1f8ce9-44ba-4878-8a71-81fe21fff525",
   "metadata": {},
   "outputs": [],
   "source": [
    "json = open('dados/aluguel.json')\n",
    "print(json.read())"
   ]
  },
  {
   "cell_type": "code",
   "execution_count": null,
   "id": "7a15280f-863e-412c-9c7e-5e687d4c411f",
   "metadata": {},
   "outputs": [],
   "source": [
    "df_json = pd.read_json('dados/aluguel.json')\n",
    "df_json"
   ]
  },
  {
   "cell_type": "code",
   "execution_count": null,
   "id": "479e53c2-313f-4bf3-b758-96939e523e49",
   "metadata": {},
   "outputs": [],
   "source": [
    "txt = open('dados/aluguel.txt')\n",
    "print(txt.read())"
   ]
  },
  {
   "cell_type": "code",
   "execution_count": null,
   "id": "b6167187-fd78-431e-be95-c9b9235f72c2",
   "metadata": {},
   "outputs": [],
   "source": [
    "df_txt = pd.read_table('dados/aluguel.txt')\n",
    "df_txt"
   ]
  },
  {
   "cell_type": "code",
   "execution_count": null,
   "id": "019dc813-f9fd-41b1-af08-e3f6be63bcbf",
   "metadata": {},
   "outputs": [],
   "source": [
    "df_xlsx = pd.read_excel('dados/aluguel.xlsx')\n",
    "df_xlsx"
   ]
  },
  {
   "cell_type": "code",
   "execution_count": null,
   "id": "ed981d9c-5bce-4da5-9fb6-9bf3f172116e",
   "metadata": {},
   "outputs": [],
   "source": [
    "df_html = pd.read_html('dados/dados_html_1.html')\n",
    "df_html[0]"
   ]
  },
  {
   "cell_type": "code",
   "execution_count": null,
   "id": "d70497f5-a7bb-4369-b3c7-359e10a18c4b",
   "metadata": {},
   "outputs": [],
   "source": []
  },
  {
   "cell_type": "code",
   "execution_count": null,
   "id": "6f80b4c9-5dbe-455b-83c4-8e56395370a8",
   "metadata": {},
   "outputs": [],
   "source": []
  }
 ],
 "metadata": {
  "kernelspec": {
   "display_name": "Python 3 (ipykernel)",
   "language": "python",
   "name": "python3"
  },
  "language_info": {
   "codemirror_mode": {
    "name": "ipython",
    "version": 3
   },
   "file_extension": ".py",
   "mimetype": "text/x-python",
   "name": "python",
   "nbconvert_exporter": "python",
   "pygments_lexer": "ipython3",
   "version": "3.11.7"
  }
 },
 "nbformat": 4,
 "nbformat_minor": 5
}
